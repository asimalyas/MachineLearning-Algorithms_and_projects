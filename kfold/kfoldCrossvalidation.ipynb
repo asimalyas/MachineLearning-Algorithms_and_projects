{
 "cells": [
  {
   "cell_type": "code",
   "execution_count": 1,
   "id": "a9823163",
   "metadata": {},
   "outputs": [],
   "source": [
    "from sklearn.datasets import load_iris\n",
    "from sklearn.model_selection import cross_val_score\n",
    "from sklearn.linear_model import LogisticRegression\n",
    "from sklearn.tree import DecisionTreeClassifier\n",
    "from sklearn.svm import SVC\n",
    "from sklearn.ensemble import RandomForestClassifier\n",
    "import numpy as np"
   ]
  },
  {
   "cell_type": "code",
   "execution_count": 5,
   "id": "d01c3e80",
   "metadata": {},
   "outputs": [],
   "source": [
    "from sklearn import datasets\n",
    "\n",
    "\n",
    "iris = datasets.load_iris()\n",
    "X = iris.data\n",
    "y = iris.target\n"
   ]
  },
  {
   "cell_type": "code",
   "execution_count": 7,
   "id": "94d8b8fc",
   "metadata": {},
   "outputs": [
    {
     "name": "stdout",
     "output_type": "stream",
     "text": [
      "Logistic Regression: 0.9733333333333334\n",
      "Decision Tree: 0.9533333333333334\n",
      "SVM: 0.9666666666666666\n",
      "Random Forest: 0.96\n"
     ]
    }
   ],
   "source": [
    "l_score= cross_val_score(LogisticRegression(max_iter=200), X, y, cv=5)\n",
    "d_score= cross_val_score(DecisionTreeClassifier(), X, y, cv=5)\n",
    "s_score= cross_val_score(SVC(), X, y, cv=5)\n",
    "r_score= cross_val_score(RandomForestClassifier(), X, y, cv=5)\n",
    "print(\"Logistic Regression:\", np.mean(l_score))\n",
    "print(\"Decision Tree:\", np.mean(d_score))\n",
    "print(\"SVM:\", np.mean(s_score))\n",
    "print(\"Random Forest:\", np.mean(r_score))\n",
    "\n"
   ]
  }
 ],
 "metadata": {
  "kernelspec": {
   "display_name": "Python 3",
   "language": "python",
   "name": "python3"
  },
  "language_info": {
   "codemirror_mode": {
    "name": "ipython",
    "version": 3
   },
   "file_extension": ".py",
   "mimetype": "text/x-python",
   "name": "python",
   "nbconvert_exporter": "python",
   "pygments_lexer": "ipython3",
   "version": "3.12.3"
  }
 },
 "nbformat": 4,
 "nbformat_minor": 5
}
